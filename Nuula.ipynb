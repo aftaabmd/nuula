{
  "nbformat": 4,
  "nbformat_minor": 0,
  "metadata": {
    "colab": {
      "name": "Nuula.ipynb",
      "provenance": []
    },
    "kernelspec": {
      "name": "python3",
      "display_name": "Python 3"
    },
    "language_info": {
      "name": "python"
    }
  },
  "cells": [
    {
      "cell_type": "code",
      "source": [
        "import xml.etree.ElementTree as ET\n",
        "import pandas as pd\n",
        "import openpyxl\n",
        "\n",
        "def xmlparser(filedir):\n",
        "\n",
        "  filepath = \"Main.xlsx\"\n",
        "  wb = openpyxl.Workbook()\n",
        "\n",
        "  wb.save(filepath)\n",
        "\n",
        "  for file in glob.glob(filedir+\"*.xml\"):\n",
        "\n",
        "    tree = ET.parse(file)\n",
        "    root = tree.getroot()\n",
        "\n",
        "    attrbs_error = [] \n",
        "    attrbs_messages = []\n",
        "    attrbs_rules = []\n",
        "\n",
        "    nuula_error = root.findall(\"./Nuula/Errors/Error\")\n",
        "    messages = root.findall(\"./DataExtract900jer/Messages/Message\")\n",
        "    rules = root.findall(\"./DataExtract900jer/Rules/Rule\")\n",
        "  \n",
        "    if len(nuula_error) > 0:\n",
        "      for err in nuula_error:\n",
        "        attrbs_error.append(err.attrib)\n",
        "      df_error = pd.DataFrame(attrbs_error)\n",
        "    else:\n",
        "      df_error = pd.DataFrame()\n",
        "\n",
        "    if len(messages) > 0:\n",
        "      for msg in messages:\n",
        "        attrbs_messages.append(msg.attrib)\n",
        "      df_messages = pd.DataFrame(attrbs_messages)\n",
        "    else:\n",
        "      df_messages = pd.DataFrame()\n",
        "\n",
        "    if len(rules) > 0:\n",
        "      for rl in rules:\n",
        "        attrbs_rules.append(rl.attrib)\n",
        "      df_rules = pd.DataFrame(attrbs_rules)\n",
        "    else:\n",
        "      df_rules = pd.DataFrame()\n",
        "\n",
        "    with pd.ExcelWriter('Main.xlsx', engine='openpyxl', mode = 'a') as writer: \n",
        "      df_error.to_excel(writer, sheet_name=file[7:10]+\"_Errors\", index = False)\n",
        "      df_messages.to_excel(writer, sheet_name=file[7:10]+\"_Messages\", index = False)\n",
        "      df_rules.to_excel(writer, sheet_name=file[7:10]+\"_Rules\", index = False)\n",
        "  \n",
        "  wb = openpyxl.load_workbook('Main.xlsx')\n",
        "  if 'Sheet' in wb.sheetnames:\n",
        "    wb.remove(wb['Sheet'])\n",
        "  wb.save('Main.xlsx')\n"
      ],
      "metadata": {
        "id": "4DQ7DkBUmcTm"
      },
      "execution_count": 136,
      "outputs": []
    },
    {
      "cell_type": "code",
      "source": [
        "xmlparser(\"./data/\")"
      ],
      "metadata": {
        "id": "fD7f4sO15VPC"
      },
      "execution_count": 138,
      "outputs": []
    },
    {
      "cell_type": "code",
      "source": [
        ""
      ],
      "metadata": {
        "id": "zdhJ97bE5Yf3"
      },
      "execution_count": null,
      "outputs": []
    }
  ]
}